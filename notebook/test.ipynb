{
 "nbformat": 4,
 "nbformat_minor": 0,
 "metadata": {
  "colab": {
   "name": "test.ipynb",
   "provenance": [],
   "collapsed_sections": []
  },
  "kernelspec": {
   "name": "python3",
   "display_name": "Python 3"
  },
  "language_info": {
   "name": "python"
  }
 },
 "cells": [
  {
   "cell_type": "markdown",
   "source": [
    "### Install DeepTMpred and ESM"
   ],
   "metadata": {
    "id": "4GyUWqiOrbvZ"
   }
  },
  {
   "cell_type": "code",
   "execution_count": null,
   "metadata": {
    "colab": {
     "base_uri": "https://localhost:8080/"
    },
    "id": "Be-pNoam6Ix5",
    "outputId": "70779db8-0e26-43ee-cbbf-2216bc51cb9e"
   },
   "outputs": [
    {
     "output_type": "stream",
     "name": "stdout",
     "text": [
      "Cloning into 'DeepTMpred'...\n",
      "remote: Enumerating objects: 91, done.\u001B[K\n",
      "remote: Counting objects: 100% (91/91), done.\u001B[K\n",
      "remote: Compressing objects: 100% (60/60), done.\u001B[K\n",
      "remote: Total 91 (delta 38), reused 71 (delta 21), pack-reused 0\u001B[K\n",
      "Unpacking objects: 100% (91/91), done.\n"
     ]
    }
   ],
   "source": [
    "!git clone https://github.com/ISYSLAB-HUST/DeepTMpred.git\n",
    "!pip install -r ./DeepTMpred/requirements.txt\n",
    "!pip install fair-esm\n",
    "import os\n",
    "os.chdir('./DeepTMpred')\n",
    "!sh ./script/download.sh"
   ]
  },
  {
   "cell_type": "markdown",
   "source": [
    "### RUNNING"
   ],
   "metadata": {
    "id": "ZYI_paaVrjs-"
   }
  },
  {
   "cell_type": "code",
   "source": [
    "!python ./tmh_main.py /content/DeepTMpred/model_files/deepTMpred-b.pth /content/DeepTMpred/model_files/orientaion-b.pth ./notebook/test.fa"
   ],
   "metadata": {
    "id": "j9xN9SFO7ced"
   },
   "execution_count": null,
   "outputs": []
  },
  {
   "cell_type": "markdown",
   "source": [
    "### TMH curve"
   ],
   "metadata": {
    "id": "Wc13Ux9Nsq_7"
   }
  },
  {
   "cell_type": "code",
   "source": [
    "import json\n",
    "import matplotlib.pyplot as plt\n",
    "test = json.load(open('test.json'))\n",
    "proba = test['test']['topo_proba']\n",
    "plt.plot(proba)\n"
   ],
   "metadata": {
    "id": "GcPHE8vR8SeM",
    "pycharm": {
     "name": "#%%\n"
    }
   },
   "execution_count": null,
   "outputs": []
  }
 ]
}